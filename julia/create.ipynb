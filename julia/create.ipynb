{
 "cells": [
  {
   "cell_type": "code",
   "execution_count": 116,
   "metadata": {},
   "outputs": [
    {
     "ename": "LoadError",
     "evalue": "LoadError: ParseError:\n# Error @ /home/aarifi/Projects/Capacitance/julia/create.jl:193:9\n            theta_ = theta[1]\n        else if length(theta) == dimension^3\n#       └─────┘ ── use `elseif` instead of `else if`\nin expression starting at /home/aarifi/Projects/Capacitance/julia/create.jl:193",
     "output_type": "error",
     "traceback": [
      "LoadError: ParseError:\n",
      "# Error @ /home/aarifi/Projects/Capacitance/julia/create.jl:193:9\n",
      "            theta_ = theta[1]\n",
      "        else if length(theta) == dimension^3\n",
      "#       └─────┘ ── use `elseif` instead of `else if`\n",
      "in expression starting at /home/aarifi/Projects/Capacitance/julia/create.jl:193\n",
      "\n",
      "Stacktrace:\n",
      " [1] top-level scope\n",
      "   @ ~/Projects/Capacitance/julia/create.jl:193"
     ]
    }
   ],
   "source": [
    "include(\"framework.jl\")\n",
    "include(\"create.jl\")\n",
    "\n",
    "mainPath=\"..\"\n",
    "configPath=mainPath*\"/data/config\"\n",
    "outputPath=mainPath*\"/data/output\""
   ]
  },
  {
   "cell_type": "code",
   "execution_count": 117,
   "metadata": {},
   "outputs": [
    {
     "ename": "MethodError",
     "evalue": "MethodError: Cannot `convert` an object of type Vector{Int64} to an object of type Int64\n\nClosest candidates are:\n  convert(::Type{T}, !Matched::T) where T<:Number\n   @ Base number.jl:6\n  convert(::Type{T}, !Matched::SentinelArrays.ChainedVectorIndex) where T<:Union{Signed, Unsigned}\n   @ SentinelArrays ~/.julia/packages/SentinelArrays/1kRo4/src/chainedvector.jl:211\n  convert(::Type{T}, !Matched::Number) where T<:Number\n   @ Base number.jl:7\n  ...\n",
     "output_type": "error",
     "traceback": [
      "MethodError: Cannot `convert` an object of type Vector{Int64} to an object of type Int64\n",
      "\n",
      "Closest candidates are:\n",
      "  convert(::Type{T}, !Matched::T) where T<:Number\n",
      "   @ Base number.jl:6\n",
      "  convert(::Type{T}, !Matched::SentinelArrays.ChainedVectorIndex) where T<:Union{Signed, Unsigned}\n",
      "   @ SentinelArrays ~/.julia/packages/SentinelArrays/1kRo4/src/chainedvector.jl:211\n",
      "  convert(::Type{T}, !Matched::Number) where T<:Number\n",
      "   @ Base number.jl:7\n",
      "  ...\n",
      "\n",
      "\n",
      "Stacktrace:\n",
      " [1] push!(a::Vector{Int64}, item::Vector{Int64})\n",
      "   @ Base ./array.jl:1118\n",
      " [2] _row_inserter!(df::DataFrame, loc::Int64, row::Vector{Any}, mode::Val{:push}, promote::Bool)\n",
      "   @ DataFrames ~/.julia/packages/DataFrames/58MUJ/src/dataframe/insertion.jl:663\n",
      " [3] push!\n",
      "   @ ~/.julia/packages/DataFrames/58MUJ/src/dataframe/insertion.jl:457 [inlined]\n",
      " [4] fAddIco!(config::DataFrame, theta::Vector{Int64}, positionX::Float64, positionY::Float64, positionZ::Float64, resolution::Int64, radiusX::Float64, radiusY::Float64, radiusZ::Float64)\n",
      "   @ Main ~/Projects/Capacitance/julia/create.jl:106\n",
      " [5] cubicArray!(dimension::Int64, size::Int64, config::DataFrame, theta::Vector{Int64}, resolution::Int64, radius1::Float64, radius2::Float64, radius3::Float64, fAdd::Bool)\n",
      "   @ Main ~/Projects/Capacitance/julia/create.jl:194\n",
      " [6] top-level scope\n",
      "   @ ~/Projects/Capacitance/julia/create.ipynb:6"
     ]
    }
   ],
   "source": [
    "config = initConfig();\n",
    "seed = 0;  Random.seed!(seed);\n",
    "\n",
    "#cubicArray( dimension, size, config, theta, resolution, radius1, radius2, radius3, fAdd=false )\n",
    "#cubicArray!( 5, 3, config, 0, 3, 0.5, 0.5, 0.5, true )\n",
    "cubicArray!( 3, 6, config, collect(0:26), 1, 1.0, 1.0, 1.0, true )\n",
    "write_csv(config, configPath*\"/test.csv\")"
   ]
  },
  {
   "cell_type": "code",
   "execution_count": 118,
   "metadata": {},
   "outputs": [
    {
     "data": {
      "text/plain": [
       "1×1 Matrix{Float64}:\n",
       " 5.982142879644378"
      ]
     },
     "metadata": {},
     "output_type": "display_data"
    }
   ],
   "source": [
    "# function read_data( dataLogFile, dataFile )\n",
    "\n",
    "\n",
    "c, cap = read_data( outputPath, \"test\")\n",
    "cap"
   ]
  },
  {
   "cell_type": "code",
   "execution_count": 119,
   "metadata": {},
   "outputs": [
    {
     "ename": "BoundsError",
     "evalue": "BoundsError: attempt to access Int64 at index [2]",
     "output_type": "error",
     "traceback": [
      "BoundsError: attempt to access Int64 at index [2]\n",
      "\n",
      "Stacktrace:\n",
      " [1] getindex(x::Int64, i::Int64)\n",
      "   @ Base ./number.jl:98\n",
      " [2] top-level scope\n",
      "   @ ~/Projects/Capacitance/julia/create.ipynb:4"
     ]
    }
   ],
   "source": [
    "v = [1,2,3,4,5,6,7,8,9,10,11,12,13,14,15]\n",
    "\n",
    "v = 2\n",
    "display( v[2] )"
   ]
  },
  {
   "cell_type": "code",
   "execution_count": null,
   "metadata": {},
   "outputs": [],
   "source": []
  }
 ],
 "metadata": {
  "kernelspec": {
   "display_name": "Julia 1.10.0",
   "language": "julia",
   "name": "julia-1.10"
  },
  "language_info": {
   "file_extension": ".jl",
   "mimetype": "application/julia",
   "name": "julia",
   "version": "1.10.0"
  }
 },
 "nbformat": 4,
 "nbformat_minor": 2
}
