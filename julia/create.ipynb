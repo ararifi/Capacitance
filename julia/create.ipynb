{
 "cells": [
  {
   "cell_type": "code",
   "execution_count": 10,
   "metadata": {},
   "outputs": [],
   "source": [
    "include(\"framework.jl\")\n",
    "include(\"create.jl\")\n",
    "configPath=\"../data/config\";"
   ]
  },
  {
   "cell_type": "code",
   "execution_count": 11,
   "metadata": {},
   "outputs": [
    {
     "data": {
      "text/plain": [
       "\"../data/config/test.csv\""
      ]
     },
     "metadata": {},
     "output_type": "display_data"
    }
   ],
   "source": [
    "config = initConfig();\n",
    "seed = 0;  Random.seed!(seed);\n",
    "\n",
    "addIco(config, 0, 0.0, 0.0, 0.0, 9, 2.0, 1.0, 1.0)\n",
    "\n",
    "for i in 1:100\n",
    "    randomIcoSphere( 10, config, 1, 3, 0.1 )\n",
    "end\n",
    "\n",
    "write_csv(config, configPath*\"/test.csv\")"
   ]
  },
  {
   "cell_type": "code",
   "execution_count": null,
   "metadata": {},
   "outputs": [],
   "source": []
  }
 ],
 "metadata": {
  "kernelspec": {
   "display_name": "Julia 1.10.0",
   "language": "julia",
   "name": "julia-1.10"
  },
  "language_info": {
   "file_extension": ".jl",
   "mimetype": "application/julia",
   "name": "julia",
   "version": "1.10.0"
  }
 },
 "nbformat": 4,
 "nbformat_minor": 2
}
