{
 "cells": [
  {
   "cell_type": "code",
   "execution_count": 1,
   "metadata": {},
   "outputs": [
    {
     "data": {
      "text/plain": [
       "\"../data/julia\""
      ]
     },
     "metadata": {},
     "output_type": "display_data"
    }
   ],
   "source": [
    "include(\"framework.jl\")\n",
    "include(\"create.jl\")\n",
    "using JLD2\n",
    "\n",
    "mainPath=\"..\"\n",
    "configPath=mainPath*\"/data/config\"\n",
    "outputPath=mainPath*\"/data/output\"\n",
    "jlOutputPath=mainPath*\"/data/julia\""
   ]
  },
  {
   "cell_type": "code",
   "execution_count": 7,
   "metadata": {},
   "outputs": [],
   "source": [
    "r_i = 1; # 100 mu m radius of ice\n",
    "r_d = 0.1; # 10 mu m radius of droplets\n",
    "d = 15; # 1500 mu m distance between hydrometeors"
   ]
  },
  {
   "cell_type": "code",
   "execution_count": 5,
   "metadata": {},
   "outputs": [
    {
     "ename": "InexactError",
     "evalue": "InexactError: Int64(10.333333333333334)",
     "output_type": "error",
     "traceback": [
      "InexactError: Int64(10.333333333333334)\n",
      "\n",
      "Stacktrace:\n",
      " [1] Int64(x::Float64)\n",
      "   @ Base ./float.jl:909\n",
      " [2] top-level scope\n",
      "   @ /lustre/project/m2_jgu-binaryhpc/aarifi/Capacitance/julia/create.ipynb:3"
     ]
    }
   ],
   "source": [
    "h = 31; # 21 hydrometeors per axis\n",
    "n = 3; if h%n != 0; error(\"h%n != 0\"); end # 3 ice crystals per axis\n",
    "h_i = Int(h/n); d_i = n*d # obtain through h, n, d the number of ice crystals and the distance between them\n",
    "\n"
   ]
  },
  {
   "cell_type": "markdown",
   "metadata": {},
   "source": [
    "(1) CONVERGENCE"
   ]
  },
  {
   "cell_type": "code",
   "execution_count": 4,
   "metadata": {},
   "outputs": [],
   "source": [
    "# checking which level is required for the ice crystals\n",
    "for level=1:10\n",
    "    config = initConfig();\n",
    "    cubicArray!( 5, d, config, 0, 3, r_d, r_d, r_d, false )\n",
    "    fAddIco( config, 1, 0.0, 0.0, 0.0, level, r_i, r_i, r_i )\n",
    "    write_csv(config, configPath*\"/convergence_$level.csv\")\n",
    "end"
   ]
  },
  {
   "cell_type": "code",
   "execution_count": 5,
   "metadata": {},
   "outputs": [],
   "source": [
    "# checking which level is required for the droplets\n",
    "for level=1:6\n",
    "    config = initConfig();\n",
    "    cubicArray!( 5, d, config, 0, level, r_d, r_d, r_d, false )\n",
    "    fAddIco( config, 1, 0.0, 0.0, 0.0, 9, r_i, r_i, r_i )\n",
    "    write_csv(config, configPath*\"/convergenceArray_$level.csv\")\n",
    "end"
   ]
  },
  {
   "cell_type": "code",
   "execution_count": 6,
   "metadata": {},
   "outputs": [],
   "source": [
    "# checking which level is required for the droplets if very near to the ice crystals\n",
    "config = initConfig();\n",
    "cubicArray!( 5, d, config, 0, 1, r_d, r_d, r_d, false )\n",
    "fAddIco( config, 1, 0.0, 0.0, 0.0, 8, r_i, r_i, r_i )\n",
    "write_csv(config, configPath*\"/test.csv\")"
   ]
  },
  {
   "cell_type": "markdown",
   "metadata": {},
   "source": [
    "(2) CUBIC ARRAY TEST"
   ]
  },
  {
   "cell_type": "code",
   "execution_count": null,
   "metadata": {},
   "outputs": [],
   "source": [
    "config = initConfig();\n",
    "seed = 0;  Random.seed!(seed);\n",
    "\n",
    "cubicArray( 5, 15, config, 0, 1, r_d, r_d, r_d, fAdd=false )\n",
    "\n",
    "multi_center_ind = ( h_i + 1 ) / 2\n",
    "center_ind = MultiToLin( multi_center_ind, multi_center_ind, multi_center_ind, h_i )\n",
    "Theta_i = ones( h_i^3 ); Theta_i[center_ind] = 2\n",
    "cubicArray!( h_i, d_i, config, Theta_i, 1, r_d, r_d, r_d, false, true )\n",
    "write_csv(config, configPath*\"/test.csv\")"
   ]
  },
  {
   "cell_type": "markdown",
   "metadata": {},
   "source": [
    "(3) CUBIC ARRAY"
   ]
  },
  {
   "cell_type": "code",
   "execution_count": null,
   "metadata": {},
   "outputs": [],
   "source": [
    "a = 1 # 100 mum reference ice crystal radius\n",
    "aOb = [100.0, 10.0, 6.0, 4.0, 2.4] # a over b\n",
    "\n",
    "N_i = 1 \n",
    "N_doN_i = [ 2, 3, 4, 5, 6, 10].^3 # N_d over N_i\n",
    "\n",
    "h = 31; # 21 hydrometeors per axis\n",
    "d = 15; # 1500 mu m distance between hydrometeors"
   ]
  },
  {
   "cell_type": "code",
   "execution_count": 7,
   "metadata": {},
   "outputs": [],
   "source": [
    "multi_center_ind = ( h_i + 1 ) / 2\n",
    "center_ind = MultiToLin( multi_center_ind, multi_center_ind, multi_center_ind, h_i )\n",
    "Theta_i = ones( h_i^3 ); Theta_i[center_ind] = 2;"
   ]
  },
  {
   "cell_type": "code",
   "execution_count": 4,
   "metadata": {},
   "outputs": [
    {
     "data": {
      "text/plain": [
       "\"../data/config/test.csv\""
      ]
     },
     "metadata": {},
     "output_type": "display_data"
    }
   ],
   "source": [
    "config = initConfig();\n",
    "seed = 0;  Random.seed!(seed);\n",
    "\n",
    "#cubicArray( dimension, size, config, theta, resolution, radius1, radius2, radius3, fAdd=false )\n",
    "#cubicArray!( h, d, config, 0, 1, r_d, r_d, r_d, false )\n",
    "multi_center_ind = ( h_i + 1 ) / 2\n",
    "center_ind = MultiToLin( multi_center_ind, multi_center_ind, multi_center_ind, h_i )\n",
    "Theta_i = ones( h_i^3 ); Theta_i[center_ind] = 2\n",
    "cubicArray!( h_i, d_i, config, Theta_i, 1, r_d, r_d, r_d, false, true )\n",
    "write_csv(config, configPath*\"/test.csv\")"
   ]
  },
  {
   "cell_type": "code",
   "execution_count": 24,
   "metadata": {},
   "outputs": [
    {
     "data": {
      "text/html": [
       "<div><div style = \"float: left;\"><span>7×9 DataFrame</span></div><div style = \"clear: both;\"></div></div><div class = \"data-frame\" style = \"overflow-x: scroll;\"><table class = \"data-frame\" style = \"margin-bottom: 6px;\"><thead><tr class = \"header\"><th class = \"rowNumber\" style = \"font-weight: bold; text-align: right;\">Row</th><th style = \"text-align: left;\">objectType</th><th style = \"text-align: left;\">theta</th><th style = \"text-align: left;\">positionX</th><th style = \"text-align: left;\">positionY</th><th style = \"text-align: left;\">positionZ</th><th style = \"text-align: left;\">objectParameter1</th><th style = \"text-align: left;\">objectParameter2</th><th style = \"text-align: left;\">objectParameter3</th><th style = \"text-align: left;\">objectParameter4</th></tr><tr class = \"subheader headerLastRow\"><th class = \"rowNumber\" style = \"font-weight: bold; text-align: right;\"></th><th title = \"String\" style = \"text-align: left;\">String</th><th title = \"Int64\" style = \"text-align: left;\">Int64</th><th title = \"Float64\" style = \"text-align: left;\">Float64</th><th title = \"Float64\" style = \"text-align: left;\">Float64</th><th title = \"Float64\" style = \"text-align: left;\">Float64</th><th title = \"Int64\" style = \"text-align: left;\">Int64</th><th title = \"Float64\" style = \"text-align: left;\">Float64</th><th title = \"Float64\" style = \"text-align: left;\">Float64</th><th title = \"Float64\" style = \"text-align: left;\">Float64</th></tr></thead><tbody><tr><td class = \"rowNumber\" style = \"font-weight: bold; text-align: right;\">1</td><td style = \"text-align: left;\">icoSphere</td><td style = \"text-align: right;\">3</td><td style = \"text-align: right;\">0.0</td><td style = \"text-align: right;\">0.0</td><td style = \"text-align: right;\">-45.0</td><td style = \"text-align: right;\">1</td><td style = \"text-align: right;\">0.1</td><td style = \"text-align: right;\">0.1</td><td style = \"text-align: right;\">0.1</td></tr><tr><td class = \"rowNumber\" style = \"font-weight: bold; text-align: right;\">2</td><td style = \"text-align: left;\">icoSphere</td><td style = \"text-align: right;\">3</td><td style = \"text-align: right;\">0.0</td><td style = \"text-align: right;\">-45.0</td><td style = \"text-align: right;\">0.0</td><td style = \"text-align: right;\">1</td><td style = \"text-align: right;\">0.1</td><td style = \"text-align: right;\">0.1</td><td style = \"text-align: right;\">0.1</td></tr><tr><td class = \"rowNumber\" style = \"font-weight: bold; text-align: right;\">3</td><td style = \"text-align: left;\">icoSphere</td><td style = \"text-align: right;\">3</td><td style = \"text-align: right;\">-45.0</td><td style = \"text-align: right;\">0.0</td><td style = \"text-align: right;\">0.0</td><td style = \"text-align: right;\">1</td><td style = \"text-align: right;\">0.1</td><td style = \"text-align: right;\">0.1</td><td style = \"text-align: right;\">0.1</td></tr><tr><td class = \"rowNumber\" style = \"font-weight: bold; text-align: right;\">4</td><td style = \"text-align: left;\">icoSphere</td><td style = \"text-align: right;\">3</td><td style = \"text-align: right;\">0.0</td><td style = \"text-align: right;\">0.0</td><td style = \"text-align: right;\">0.0</td><td style = \"text-align: right;\">1</td><td style = \"text-align: right;\">0.1</td><td style = \"text-align: right;\">0.1</td><td style = \"text-align: right;\">0.1</td></tr><tr><td class = \"rowNumber\" style = \"font-weight: bold; text-align: right;\">5</td><td style = \"text-align: left;\">icoSphere</td><td style = \"text-align: right;\">3</td><td style = \"text-align: right;\">45.0</td><td style = \"text-align: right;\">0.0</td><td style = \"text-align: right;\">0.0</td><td style = \"text-align: right;\">1</td><td style = \"text-align: right;\">0.1</td><td style = \"text-align: right;\">0.1</td><td style = \"text-align: right;\">0.1</td></tr><tr><td class = \"rowNumber\" style = \"font-weight: bold; text-align: right;\">6</td><td style = \"text-align: left;\">icoSphere</td><td style = \"text-align: right;\">3</td><td style = \"text-align: right;\">0.0</td><td style = \"text-align: right;\">45.0</td><td style = \"text-align: right;\">0.0</td><td style = \"text-align: right;\">1</td><td style = \"text-align: right;\">0.1</td><td style = \"text-align: right;\">0.1</td><td style = \"text-align: right;\">0.1</td></tr><tr><td class = \"rowNumber\" style = \"font-weight: bold; text-align: right;\">7</td><td style = \"text-align: left;\">icoSphere</td><td style = \"text-align: right;\">3</td><td style = \"text-align: right;\">0.0</td><td style = \"text-align: right;\">0.0</td><td style = \"text-align: right;\">45.0</td><td style = \"text-align: right;\">1</td><td style = \"text-align: right;\">0.1</td><td style = \"text-align: right;\">0.1</td><td style = \"text-align: right;\">0.1</td></tr></tbody></table></div>"
      ],
      "text/latex": [
       "\\begin{tabular}{r|cccccccc}\n",
       "\t& objectType & theta & positionX & positionY & positionZ & objectParameter1 & objectParameter2 & \\\\\n",
       "\t\\hline\n",
       "\t& String & Int64 & Float64 & Float64 & Float64 & Int64 & Float64 & \\\\\n",
       "\t\\hline\n",
       "\t1 & icoSphere & 3 & 0.0 & 0.0 & -45.0 & 1 & 0.1 & $\\dots$ \\\\\n",
       "\t2 & icoSphere & 3 & 0.0 & -45.0 & 0.0 & 1 & 0.1 & $\\dots$ \\\\\n",
       "\t3 & icoSphere & 3 & -45.0 & 0.0 & 0.0 & 1 & 0.1 & $\\dots$ \\\\\n",
       "\t4 & icoSphere & 3 & 0.0 & 0.0 & 0.0 & 1 & 0.1 & $\\dots$ \\\\\n",
       "\t5 & icoSphere & 3 & 45.0 & 0.0 & 0.0 & 1 & 0.1 & $\\dots$ \\\\\n",
       "\t6 & icoSphere & 3 & 0.0 & 45.0 & 0.0 & 1 & 0.1 & $\\dots$ \\\\\n",
       "\t7 & icoSphere & 3 & 0.0 & 0.0 & 45.0 & 1 & 0.1 & $\\dots$ \\\\\n",
       "\\end{tabular}\n"
      ],
      "text/plain": [
       "\u001b[1m7×9 DataFrame\u001b[0m\n",
       "\u001b[1m Row \u001b[0m│\u001b[1m objectType \u001b[0m\u001b[1m theta \u001b[0m\u001b[1m positionX \u001b[0m\u001b[1m positionY \u001b[0m\u001b[1m positionZ \u001b[0m\u001b[1m objectParameter1 \u001b[0m\u001b[1m o\u001b[0m ⋯\n",
       "     │\u001b[90m String     \u001b[0m\u001b[90m Int64 \u001b[0m\u001b[90m Float64   \u001b[0m\u001b[90m Float64   \u001b[0m\u001b[90m Float64   \u001b[0m\u001b[90m Int64            \u001b[0m\u001b[90m F\u001b[0m ⋯\n",
       "─────┼──────────────────────────────────────────────────────────────────────────\n",
       "   1 │ icoSphere       3        0.0        0.0      -45.0                 1    ⋯\n",
       "   2 │ icoSphere       3        0.0      -45.0        0.0                 1\n",
       "   3 │ icoSphere       3      -45.0        0.0        0.0                 1\n",
       "   4 │ icoSphere       3        0.0        0.0        0.0                 1\n",
       "   5 │ icoSphere       3       45.0        0.0        0.0                 1    ⋯\n",
       "   6 │ icoSphere       3        0.0       45.0        0.0                 1\n",
       "   7 │ icoSphere       3        0.0        0.0       45.0                 1\n",
       "\u001b[36m                                                               3 columns omitted\u001b[0m"
      ]
     },
     "metadata": {},
     "output_type": "display_data"
    }
   ],
   "source": [
    "config[getIndex( config, [0,0,0], 50 ), :theta] .= 3;\n",
    "config[getIndex( config, [0,0,0], 50 ), :]"
   ]
  },
  {
   "cell_type": "code",
   "execution_count": null,
   "metadata": {},
   "outputs": [],
   "source": [
    "# function read_data( dataLogFile, dataFile )\n",
    "\n",
    "simName = \"test\"\n",
    "\n",
    "@suppress begin\n",
    "c, cap = read_data( outputPath, \"$simName\")\n",
    "end\n",
    "df = fuse(\"$simName\", c, cap)\n",
    "@save \"$jlOutputPath/$simName.jld2\" df"
   ]
  },
  {
   "cell_type": "code",
   "execution_count": null,
   "metadata": {},
   "outputs": [],
   "source": []
  }
 ],
 "metadata": {
  "kernelspec": {
   "display_name": "Julia 1.10.0",
   "language": "julia",
   "name": "julia-1.10"
  },
  "language_info": {
   "file_extension": ".jl",
   "mimetype": "application/julia",
   "name": "julia",
   "version": "1.10.0"
  }
 },
 "nbformat": 4,
 "nbformat_minor": 2
}
