{
 "cells": [
  {
   "cell_type": "code",
   "execution_count": 81,
   "metadata": {},
   "outputs": [],
   "source": [
    "include(\"framework.jl\")\n",
    "include(\"create.jl\")\n",
    "configPath=\"../data/config\";"
   ]
  },
  {
   "cell_type": "code",
   "execution_count": 82,
   "metadata": {},
   "outputs": [
    {
     "data": {
      "text/plain": [
       "\"../data/config/test.csv\""
      ]
     },
     "metadata": {},
     "output_type": "display_data"
    }
   ],
   "source": [
    "config = initConfig();\n",
    "seed = 0;  Random.seed!(seed);\n",
    "\n",
    "#cubicArray( dimension, size, config, theta, resolution, radius1, radius2, radius3, fAdd=false )\n",
    "cubicArray!( 5, 3, config, 0, 3, 0.5, 0.5, 0.5, true )\n",
    "cubicArray!( 3, 6, config, 1, 3, 0.5, 0.5, 0.5, true )\n",
    "write_csv(config, configPath*\"/test.csv\")"
   ]
  },
  {
   "cell_type": "code",
   "execution_count": null,
   "metadata": {},
   "outputs": [],
   "source": []
  }
 ],
 "metadata": {
  "kernelspec": {
   "display_name": "Julia 1.10.0",
   "language": "julia",
   "name": "julia-1.10"
  },
  "language_info": {
   "file_extension": ".jl",
   "mimetype": "application/julia",
   "name": "julia",
   "version": "1.10.0"
  }
 },
 "nbformat": 4,
 "nbformat_minor": 2
}
