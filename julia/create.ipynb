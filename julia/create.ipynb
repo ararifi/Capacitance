{
 "cells": [
  {
   "cell_type": "code",
   "execution_count": 1,
   "metadata": {},
   "outputs": [
    {
     "data": {
      "text/plain": [
       "\"../data/output\""
      ]
     },
     "metadata": {},
     "output_type": "display_data"
    }
   ],
   "source": [
    "include(\"framework.jl\")\n",
    "include(\"create.jl\")\n",
    "using JLD2\n",
    "\n",
    "mainPath=\"..\"\n",
    "configPath=mainPath*\"/data/config\"\n",
    "outputPath=mainPath*\"/data/output\""
   ]
  },
  {
   "cell_type": "code",
   "execution_count": 8,
   "metadata": {},
   "outputs": [
    {
     "data": {
      "text/plain": [
       "\"../data/config/test.csv\""
      ]
     },
     "metadata": {},
     "output_type": "display_data"
    }
   ],
   "source": [
    "config = initConfig();\n",
    "seed = 0;  Random.seed!(seed);\n",
    "\n",
    "#cubicArray( dimension, size, config, theta, resolution, radius1, radius2, radius3, fAdd=false )\n",
    "#cubicArray!( 5, 3, config, 0, 3, 0.5, 0.5, 0.5, true )\n",
    "cubicArray( 3, 6, config, collect(0:26), 1, 2.0, 1.0, 1.0, true )\n",
    "write_csv(config, configPath*\"/test.csv\")"
   ]
  },
  {
   "cell_type": "code",
   "execution_count": 5,
   "metadata": {},
   "outputs": [
    {
     "name": "stderr",
     "output_type": "stream",
     "text": [
      "┌ Warning: thread = 1 warning: only found 26 / 27 columns around data row: 2. Filling remaining columns with `missing`\n",
      "└ @ CSV /home/aarifi/.julia/packages/CSV/aoJqo/src/file.jl:586\n",
      "┌ Warning: thread = 1 warning: only found 25 / 27 columns around data row: 3. Filling remaining columns with `missing`\n",
      "└ @ CSV /home/aarifi/.julia/packages/CSV/aoJqo/src/file.jl:586\n",
      "┌ Warning: thread = 1 warning: only found 24 / 27 columns around data row: 4. Filling remaining columns with `missing`\n",
      "└ @ CSV /home/aarifi/.julia/packages/CSV/aoJqo/src/file.jl:586\n",
      "┌ Warning: thread = 1 warning: only found 23 / 27 columns around data row: 5. Filling remaining columns with `missing`\n",
      "└ @ CSV /home/aarifi/.julia/packages/CSV/aoJqo/src/file.jl:586\n",
      "┌ Warning: thread = 1 warning: only found 22 / 27 columns around data row: 6. Filling remaining columns with `missing`\n",
      "└ @ CSV /home/aarifi/.julia/packages/CSV/aoJqo/src/file.jl:586\n",
      "┌ Warning: thread = 1 warning: only found 21 / 27 columns around data row: 7. Filling remaining columns with `missing`\n",
      "└ @ CSV /home/aarifi/.julia/packages/CSV/aoJqo/src/file.jl:586\n",
      "┌ Warning: thread = 1 warning: only found 20 / 27 columns around data row: 8. Filling remaining columns with `missing`\n",
      "└ @ CSV /home/aarifi/.julia/packages/CSV/aoJqo/src/file.jl:586\n",
      "┌ Warning: thread = 1 warning: only found 19 / 27 columns around data row: 9. Filling remaining columns with `missing`\n",
      "└ @ CSV /home/aarifi/.julia/packages/CSV/aoJqo/src/file.jl:586\n",
      "┌ Warning: thread = 1 warning: only found 18 / 27 columns around data row: 10. Filling remaining columns with `missing`\n",
      "└ @ CSV /home/aarifi/.julia/packages/CSV/aoJqo/src/file.jl:586\n",
      "┌ Warning: thread = 1 warning: only found 17 / 27 columns around data row: 11. Filling remaining columns with `missing`\n",
      "└ @ CSV /home/aarifi/.julia/packages/CSV/aoJqo/src/file.jl:586\n",
      "┌ Warning: thread = 1 warning: only found 16 / 27 columns around data row: 12. Filling remaining columns with `missing`\n",
      "└ @ CSV /home/aarifi/.julia/packages/CSV/aoJqo/src/file.jl:586\n",
      "┌ Warning: thread = 1 warning: only found 15 / 27 columns around data row: 13. Filling remaining columns with `missing`\n",
      "└ @ CSV /home/aarifi/.julia/packages/CSV/aoJqo/src/file.jl:586\n",
      "┌ Warning: thread = 1 warning: only found 14 / 27 columns around data row: 14. Filling remaining columns with `missing`\n",
      "└ @ CSV /home/aarifi/.julia/packages/CSV/aoJqo/src/file.jl:586\n",
      "┌ Warning: thread = 1 warning: only found 13 / 27 columns around data row: 15. Filling remaining columns with `missing`\n",
      "└ @ CSV /home/aarifi/.julia/packages/CSV/aoJqo/src/file.jl:586\n",
      "┌ Warning: thread = 1 warning: only found 12 / 27 columns around data row: 16. Filling remaining columns with `missing`\n",
      "└ @ CSV /home/aarifi/.julia/packages/CSV/aoJqo/src/file.jl:586\n",
      "┌ Warning: thread = 1 warning: only found 11 / 27 columns around data row: 17. Filling remaining columns with `missing`\n",
      "└ @ CSV /home/aarifi/.julia/packages/CSV/aoJqo/src/file.jl:586\n",
      "┌ Warning: thread = 1 warning: only found 10 / 27 columns around data row: 18. Filling remaining columns with `missing`\n",
      "└ @ CSV /home/aarifi/.julia/packages/CSV/aoJqo/src/file.jl:586\n",
      "┌ Warning: thread = 1 warning: only found 9 / 27 columns around data row: 19. Filling remaining columns with `missing`\n",
      "└ @ CSV /home/aarifi/.julia/packages/CSV/aoJqo/src/file.jl:586\n",
      "┌ Warning: thread = 1 warning: only found 8 / 27 columns around data row: 20. Filling remaining columns with `missing`\n",
      "└ @ CSV /home/aarifi/.julia/packages/CSV/aoJqo/src/file.jl:586\n",
      "┌ Warning: thread = 1 warning: only found 7 / 27 columns around data row: 21. Filling remaining columns with `missing`\n",
      "└ @ CSV /home/aarifi/.julia/packages/CSV/aoJqo/src/file.jl:586\n",
      "┌ Warning: thread = 1 warning: only found 6 / 27 columns around data row: 22. Filling remaining columns with `missing`\n",
      "└ @ CSV /home/aarifi/.julia/packages/CSV/aoJqo/src/file.jl:586\n",
      "┌ Warning: thread = 1 warning: only found 5 / 27 columns around data row: 23. Filling remaining columns with `missing`\n",
      "└ @ CSV /home/aarifi/.julia/packages/CSV/aoJqo/src/file.jl:586\n",
      "┌ Warning: thread = 1 warning: only found 4 / 27 columns around data row: 24. Filling remaining columns with `missing`\n",
      "└ @ CSV /home/aarifi/.julia/packages/CSV/aoJqo/src/file.jl:586\n",
      "┌ Warning: thread = 1 warning: only found 3 / 27 columns around data row: 25. Filling remaining columns with `missing`\n",
      "└ @ CSV /home/aarifi/.julia/packages/CSV/aoJqo/src/file.jl:586\n",
      "┌ Warning: thread = 1 warning: only found 2 / 27 columns around data row: 26. Filling remaining columns with `missing`\n",
      "└ @ CSV /home/aarifi/.julia/packages/CSV/aoJqo/src/file.jl:586\n",
      "┌ Warning: thread = 1 warning: only found 1 / 27 columns around data row: 27. Filling remaining columns with `missing`\n",
      "└ @ CSV /home/aarifi/.julia/packages/CSV/aoJqo/src/file.jl:586\n"
     ]
    }
   ],
   "source": [
    "# function read_data( dataLogFile, dataFile )\n",
    "\n",
    "\n",
    "c, cap = read_data( outputPath, \"test\");"
   ]
  },
  {
   "cell_type": "code",
   "execution_count": 7,
   "metadata": {},
   "outputs": [
    {
     "data": {
      "text/plain": [
       "27-element Vector{Float64}:\n",
       " 1.067737763401517\n",
       " 1.050401600082845\n",
       " 1.064571369486282\n",
       " 1.082124539495834\n",
       " 1.044424763186872\n",
       " 1.036604806952014\n",
       " 1.036245524115892\n",
       " 1.05131447900782\n",
       " 1.039956752957903\n",
       " 1.067028279997126\n",
       " ⋮\n",
       " 1.047575937795169\n",
       " 1.014513379795276\n",
       " 1.077445652005867\n",
       " 1.098972363323773\n",
       " 1.039847586834713\n",
       " 1.049238814340451\n",
       " 1.051181086775786\n",
       " 1.038590393503037\n",
       " 1.047939638648029"
      ]
     },
     "metadata": {},
     "output_type": "display_data"
    }
   ],
   "source": [
    "using LinearAlgebra\n",
    "diag(cap)"
   ]
  },
  {
   "cell_type": "code",
   "execution_count": 119,
   "metadata": {},
   "outputs": [
    {
     "ename": "BoundsError",
     "evalue": "BoundsError: attempt to access Int64 at index [2]",
     "output_type": "error",
     "traceback": [
      "BoundsError: attempt to access Int64 at index [2]\n",
      "\n",
      "Stacktrace:\n",
      " [1] getindex(x::Int64, i::Int64)\n",
      "   @ Base ./number.jl:98\n",
      " [2] top-level scope\n",
      "   @ ~/Projects/Capacitance/julia/create.ipynb:4"
     ]
    }
   ],
   "source": [
    "v = [1,2,3,4,5,6,7,8,9,10,11,12,13,14,15]\n",
    "\n",
    "v = 2\n",
    "display( v[2] )"
   ]
  },
  {
   "cell_type": "code",
   "execution_count": null,
   "metadata": {},
   "outputs": [],
   "source": []
  }
 ],
 "metadata": {
  "kernelspec": {
   "display_name": "Julia 1.10.0",
   "language": "julia",
   "name": "julia-1.10"
  },
  "language_info": {
   "file_extension": ".jl",
   "mimetype": "application/julia",
   "name": "julia",
   "version": "1.10.0"
  }
 },
 "nbformat": 4,
 "nbformat_minor": 2
}
