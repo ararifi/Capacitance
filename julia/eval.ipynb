include("framework.jl")
include("create.jl")
using JLD2

mainPath=".."
configPath=mainPath*"/data/config"
outputPath=mainPath*"/data/output"
jlOutputPath=mainPath*"/data/julia"


simName = "convergence"
df = DataFrame()
for ind = 1:10
    config, cap = read_data( outputPath, "$(simName)_$(ind)" )
    row = fuse( "$(simName)_$(ind)", c, cap )
    df = vcat( df, row )
end