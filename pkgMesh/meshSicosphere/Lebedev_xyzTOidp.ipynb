{
 "cells": [
  {
   "cell_type": "code",
   "execution_count": 1,
   "metadata": {},
   "outputs": [],
   "source": [
    "push!(LOAD_PATH, \"../../julia\");\n",
    "Base.load_path();"
   ]
  },
  {
   "cell_type": "code",
   "execution_count": 2,
   "metadata": {},
   "outputs": [
    {
     "name": "stderr",
     "output_type": "stream",
     "text": [
      "┌ Info: Installing scipy.spatial via the Conda scipy package...\n",
      "└ @ PyCall /home/aarifi/.julia/packages/PyCall/ygXW2/src/PyCall.jl:719\n",
      "┌ Info: Running `conda install -y scipy` in root environment\n",
      "└ @ Conda /home/aarifi/.julia/packages/Conda/x2UxR/src/Conda.jl:127\n"
     ]
    },
    {
     "name": "stdout",
     "output_type": "stream",
     "text": [
      "Collecting package metadata (current_repodata.json): ...working... "
     ]
    },
    {
     "name": "stdout",
     "output_type": "stream",
     "text": [
      "done\n",
      "Solving environment: ...working... "
     ]
    },
    {
     "name": "stdout",
     "output_type": "stream",
     "text": [
      "done\n"
     ]
    },
    {
     "name": "stdout",
     "output_type": "stream",
     "text": [
      "\n",
      "## Package Plan ##\n",
      "\n",
      "  environment location: /home/aarifi/.julia/conda/3\n",
      "\n",
      "  added / updated specs:\n",
      "    - scipy\n",
      "\n",
      "\n",
      "The following packages will be downloaded:\n",
      "\n",
      "    package                    |            build\n",
      "    ---------------------------|-----------------\n",
      "    scipy-1.9.3                |  py310hdfbd76f_2        26.2 MB  conda-forge\n",
      "    ------------------------------------------------------------\n",
      "                                           Total:        26.2 MB\n",
      "\n",
      "The following NEW packages will be INSTALLED:\n",
      "\n",
      "  scipy              conda-forge/linux-64::scipy-1.9.3-py310hdfbd76f_2 \n",
      "\n",
      "\n",
      "\n",
      "Downloading and Extracting Packages\n",
      "\rscipy-1.9.3          | 26.2 MB   |            |   0% "
     ]
    },
    {
     "name": "stdout",
     "output_type": "stream",
     "text": [
      "\rscipy-1.9.3          | 26.2 MB   |            |   0% "
     ]
    },
    {
     "name": "stdout",
     "output_type": "stream",
     "text": [
      "\rscipy-1.9.3          | 26.2 MB   |            |   1% "
     ]
    },
    {
     "name": "stdout",
     "output_type": "stream",
     "text": [
      "\rscipy-1.9.3          | 26.2 MB   | 1          |   2% "
     ]
    },
    {
     "name": "stdout",
     "output_type": "stream",
     "text": [
      "\rscipy-1.9.3          | 26.2 MB   | 3          |   4% "
     ]
    },
    {
     "name": "stdout",
     "output_type": "stream",
     "text": [
      "\rscipy-1.9.3          | 26.2 MB   | 4          |   5% "
     ]
    },
    {
     "name": "stdout",
     "output_type": "stream",
     "text": [
      "\rscipy-1.9.3          | 26.2 MB   | 6          |   6% "
     ]
    },
    {
     "name": "stdout",
     "output_type": "stream",
     "text": [
      "\rscipy-1.9.3          | 26.2 MB   | 7          |   8% "
     ]
    },
    {
     "name": "stdout",
     "output_type": "stream",
     "text": [
      "\rscipy-1.9.3          | 26.2 MB   | 9          |   9% "
     ]
    },
    {
     "name": "stdout",
     "output_type": "stream",
     "text": [
      "\rscipy-1.9.3          | 26.2 MB   | #          |  10% "
     ]
    },
    {
     "name": "stdout",
     "output_type": "stream",
     "text": [
      "\rscipy-1.9.3          | 26.2 MB   | #1         |  12% "
     ]
    },
    {
     "name": "stdout",
     "output_type": "stream",
     "text": [
      "\rscipy-1.9.3          | 26.2 MB   | #3         |  14% "
     ]
    },
    {
     "name": "stdout",
     "output_type": "stream",
     "text": [
      "\rscipy-1.9.3          | 26.2 MB   | #5         |  15% "
     ]
    },
    {
     "name": "stdout",
     "output_type": "stream",
     "text": [
      "\rscipy-1.9.3          | 26.2 MB   | #6         |  17% "
     ]
    },
    {
     "name": "stdout",
     "output_type": "stream",
     "text": [
      "\rscipy-1.9.3          | 26.2 MB   | #8         |  18% "
     ]
    },
    {
     "name": "stdout",
     "output_type": "stream",
     "text": [
      "\rscipy-1.9.3          | 26.2 MB   | ##         |  20% "
     ]
    },
    {
     "name": "stdout",
     "output_type": "stream",
     "text": [
      "\rscipy-1.9.3          | 26.2 MB   | ##2        |  22% "
     ]
    },
    {
     "name": "stdout",
     "output_type": "stream",
     "text": [
      "\rscipy-1.9.3          | 26.2 MB   | ##3        |  24% "
     ]
    },
    {
     "name": "stdout",
     "output_type": "stream",
     "text": [
      "\rscipy-1.9.3          | 26.2 MB   | ##5        |  26% "
     ]
    },
    {
     "name": "stdout",
     "output_type": "stream",
     "text": [
      "\rscipy-1.9.3          | 26.2 MB   | ##8        |  28% "
     ]
    },
    {
     "name": "stdout",
     "output_type": "stream",
     "text": [
      "\rscipy-1.9.3          | 26.2 MB   | ###        |  30% "
     ]
    },
    {
     "name": "stdout",
     "output_type": "stream",
     "text": [
      "\rscipy-1.9.3          | 26.2 MB   | ###2       |  32% "
     ]
    },
    {
     "name": "stdout",
     "output_type": "stream",
     "text": [
      "\rscipy-1.9.3          | 26.2 MB   | ###4       |  34% "
     ]
    },
    {
     "name": "stdout",
     "output_type": "stream",
     "text": [
      "\rscipy-1.9.3          | 26.2 MB   | ###6       |  36% "
     ]
    },
    {
     "name": "stdout",
     "output_type": "stream",
     "text": [
      "\rscipy-1.9.3          | 26.2 MB   | ###8       |  39% "
     ]
    },
    {
     "name": "stdout",
     "output_type": "stream",
     "text": [
      "\rscipy-1.9.3          | 26.2 MB   | ####       |  41% "
     ]
    },
    {
     "name": "stdout",
     "output_type": "stream",
     "text": [
      "\rscipy-1.9.3          | 26.2 MB   | ####3      |  43% "
     ]
    },
    {
     "name": "stdout",
     "output_type": "stream",
     "text": [
      "\rscipy-1.9.3          | 26.2 MB   | ####5      |  45% "
     ]
    },
    {
     "name": "stdout",
     "output_type": "stream",
     "text": [
      "\rscipy-1.9.3          | 26.2 MB   | ####8      |  48% "
     ]
    },
    {
     "name": "stdout",
     "output_type": "stream",
     "text": [
      "\rscipy-1.9.3          | 26.2 MB   | ####9      |  50% "
     ]
    },
    {
     "name": "stdout",
     "output_type": "stream",
     "text": [
      "\rscipy-1.9.3          | 26.2 MB   | #####2     |  53% "
     ]
    },
    {
     "name": "stdout",
     "output_type": "stream",
     "text": [
      "\rscipy-1.9.3          | 26.2 MB   | #####5     |  55% "
     ]
    },
    {
     "name": "stdout",
     "output_type": "stream",
     "text": [
      "\rscipy-1.9.3          | 26.2 MB   | #####7     |  57% "
     ]
    },
    {
     "name": "stdout",
     "output_type": "stream",
     "text": [
      "\rscipy-1.9.3          | 26.2 MB   | ######     |  60% "
     ]
    },
    {
     "name": "stdout",
     "output_type": "stream",
     "text": [
      "\rscipy-1.9.3          | 26.2 MB   | ######2    |  63% "
     ]
    },
    {
     "name": "stdout",
     "output_type": "stream",
     "text": [
      "\rscipy-1.9.3          | 26.2 MB   | ######4    |  65% "
     ]
    },
    {
     "name": "stdout",
     "output_type": "stream",
     "text": [
      "\rscipy-1.9.3          | 26.2 MB   | ######6    |  67% "
     ]
    },
    {
     "name": "stdout",
     "output_type": "stream",
     "text": [
      "\rscipy-1.9.3          | 26.2 MB   | ######9    |  69% "
     ]
    },
    {
     "name": "stdout",
     "output_type": "stream",
     "text": [
      "\rscipy-1.9.3          | 26.2 MB   | #######1   |  71% "
     ]
    },
    {
     "name": "stdout",
     "output_type": "stream",
     "text": [
      "\rscipy-1.9.3          | 26.2 MB   | #######3   |  73% "
     ]
    },
    {
     "name": "stdout",
     "output_type": "stream",
     "text": [
      "\rscipy-1.9.3          | 26.2 MB   | #######5   |  76% "
     ]
    },
    {
     "name": "stdout",
     "output_type": "stream",
     "text": [
      "\rscipy-1.9.3          | 26.2 MB   | #######8   |  78% "
     ]
    },
    {
     "name": "stdout",
     "output_type": "stream",
     "text": [
      "\rscipy-1.9.3          | 26.2 MB   | ########3  |  84% "
     ]
    },
    {
     "name": "stdout",
     "output_type": "stream",
     "text": [
      "\rscipy-1.9.3          | 26.2 MB   | ########6  |  87% "
     ]
    },
    {
     "name": "stdout",
     "output_type": "stream",
     "text": [
      "\rscipy-1.9.3          | 26.2 MB   | ########9  |  90% "
     ]
    },
    {
     "name": "stdout",
     "output_type": "stream",
     "text": [
      "\rscipy-1.9.3          | 26.2 MB   | #########2 |  92% "
     ]
    },
    {
     "name": "stdout",
     "output_type": "stream",
     "text": [
      "\rscipy-1.9.3          | 26.2 MB   | #########6 |  96% "
     ]
    },
    {
     "name": "stdout",
     "output_type": "stream",
     "text": [
      "\rscipy-1.9.3          | 26.2 MB   | #########8 |  99% "
     ]
    },
    {
     "name": "stdout",
     "output_type": "stream",
     "text": [
      "\rscipy-1.9.3          | 26.2 MB   | ########## | 100% \r                                                     \r\r\n",
      "Preparing transaction: ...working... done\n",
      "Verifying transaction: ...working... "
     ]
    },
    {
     "name": "stdout",
     "output_type": "stream",
     "text": [
      "done\n",
      "Executing transaction: ...working... "
     ]
    },
    {
     "name": "stdout",
     "output_type": "stream",
     "text": [
      "done\n"
     ]
    }
   ],
   "source": [
    "using ExtXYZ\n",
    "using DelimitedFiles\n",
    "using Polyhedra\n",
    "using LinearAlgebra\n",
    "using QHull"
   ]
  },
  {
   "cell_type": "markdown",
   "metadata": {},
   "source": [
    "Download Files"
   ]
  },
  {
   "cell_type": "code",
   "execution_count": null,
   "metadata": {},
   "outputs": [],
   "source": [
    "# https://people.sc.fsu.edu/~jburkardt/datasets/sphere_lebedev_rule/sphere_lebedev_rule.html\n",
    "for i = 1:140\n",
    "    try\n",
    "        url = \"https://people.sc.fsu.edu/~jburkardt/datasets/sphere_lebedev_rule/lebedev_\"*lpad(string(i), 3, \"0\")*\".txt\"\n",
    "        download(url, \"./Lebedev_xyz/\"*string(i)*\".xyz\")\n",
    "    catch\n",
    "        continue\n",
    "    end\n",
    "end"
   ]
  },
  {
   "cell_type": "markdown",
   "metadata": {},
   "source": [
    "Read and Store Data into Array-Format"
   ]
  },
  {
   "cell_type": "code",
   "execution_count": null,
   "metadata": {},
   "outputs": [],
   "source": [
    "xyzDir = readdir(\"./Lebedev_xyz\")\n",
    "\n",
    "# structure of xyz\n",
    "# theta phi w\n",
    "\n",
    "function arrIt(arr)\n",
    "    stringed = String[]\n",
    "    for (i, nestedArr) in enumerate(arr)\n",
    "        tempString = \"\"\n",
    "        push!(stringed, mapreduce(x->(string(x)*\", \"), *,nestedArr))\n",
    "    end\n",
    "    return stringed\n",
    "end\n",
    "\n",
    "function writeidp(name::String, arg::Vector{String}, trafo::Function)\n",
    "    numArg = size(arg, 1)\n",
    "    outputStream = open(\"./lebedev_\" * name * \".idp\", \"w+\")\n",
    "    for xyzStr in xyzDir\n",
    "        numStr = SubString(xyzStr, 1:length(xyzStr)-4)\n",
    "        if parse(Int, numStr) == 47\n",
    "            arrString = String[]\n",
    "            matrix = readdlm(\"./Lebedev_xyz/\"*xyzStr)\n",
    "            I, J = size(matrix);\n",
    "            \n",
    "            for (indArg, elem) in enumerate(arg)\n",
    "                arrString = push!(arrString, \"real[int] lebedev\" * elem * numStr * \" = [\")\n",
    "            end\n",
    "            cnt = 1\n",
    "            for i = 1:I\n",
    "                toWrite = arrIt(trafo(matrix[i, :]...))\n",
    "                for (indArg, elem) in enumerate(toWrite)\n",
    "                    arrString[indArg] = arrString[indArg] * reduce(*, elem)\n",
    "                end\n",
    "            end\n",
    "            for indArg = 1:numArg\n",
    "                arrString[indArg] = arrString[indArg][1:end-2] * \"];\"\n",
    "                write(outputStream, arrString[indArg] * \"\\n\")\n",
    "            end\n",
    "        end\n",
    "    end\n",
    "    close(outputStream)\n",
    "end\n",
    "\n"
   ]
  },
  {
   "cell_type": "code",
   "execution_count": null,
   "metadata": {},
   "outputs": [],
   "source": [
    "function trafo1(theta, phi, w)\n",
    "    return [[theta], [phi], [w]];\n",
    "end\n",
    "\n",
    "function trafo2(theta, phi, w)\n",
    "    return [[theta, phi], [w]];\n",
    "end\n",
    "\n",
    "function trafo3(theta, phi, w)\n",
    "    theta = theta * 2*pi/360;\n",
    "    phi = phi * 2*pi/360;\n",
    "    x = cos(theta) * sin(phi)\n",
    "    y = sin(theta) * sin(phi)\n",
    "    z = cos(phi)\n",
    "    return [[x], [y], [z], [w]];\n",
    "end\n",
    "\n",
    "writeidp(\"x_y_z_w\", [\"x\",\"y\",\"z\",\"w\"], trafo3)"
   ]
  },
  {
   "cell_type": "markdown",
   "metadata": {},
   "source": [
    "Read and Store Data into Matrix-Format (delim = \"\\s\")"
   ]
  },
  {
   "cell_type": "code",
   "execution_count": null,
   "metadata": {},
   "outputs": [],
   "source": [
    "# in rad!!!\n",
    "xyzDir = readdir(\"./Lebedev_xyz\")\n",
    "\n",
    "function trafoSphere(theta, phi, w)\n",
    "    theta = deg2rad(theta);\n",
    "    phi = deg2rad(phi);\n",
    "    x = cos(theta) * sin(phi)\n",
    "    y = sin(theta) * sin(phi)\n",
    "    z = cos(phi)\n",
    "    return [x, y, z, w]\n",
    "end\n",
    "\n",
    "function writeMatrix(numArg, trafo, matrix)\n",
    "    matrixOut = Array{Float64}(undef, 0, numArg)\n",
    "    for row in eachrow(matrix)\n",
    "        matrixOut = [matrixOut; trafoSphere(row...)']\n",
    "    end\n",
    "    return matrixOut\n",
    "end\n",
    "\n",
    "\n",
    "for xyzStr in xyzDir\n",
    "    numStr = SubString(xyzStr, 1:length(xyzStr)-4)\n",
    "    if parse(Int, numStr) > -1\n",
    "        matrix = readdlm(\"./Lebedev_xyz/\"*xyzStr)\n",
    "        outputStream = open(\"./Lebedev_xyzw/\" * string(size(matrix, 1)) * \".xyzw\", \"w+\")\n",
    "        matrixOut = writeMatrix(4, trafoSphere, matrix)\n",
    "\n",
    "        write(outputStream, string(size(matrixOut, 1)*size(matrixOut, 2))*\"\\n\")\n",
    "        for col in eachcol(matrixOut)\n",
    "            strCol = map(x->\"\\t\"*string(x), col)\n",
    "            write(outputStream, reduce(*, strCol))\n",
    "            write(outputStream, \"\\n\")\n",
    "        end\n",
    "        close(outputStream)\n",
    "    end\n",
    "end"
   ]
  },
  {
   "cell_type": "code",
   "execution_count": 3,
   "metadata": {},
   "outputs": [],
   "source": [
    "xyzDir = sort(readdir(\"./Lebedev_xyz\"));"
   ]
  },
  {
   "cell_type": "code",
   "execution_count": 12,
   "metadata": {},
   "outputs": [],
   "source": [
    "# in rad!!!\n",
    "xyzDir = readdir(\"./Lebedev_xyz\"); \n",
    "xyzDirReal = map(x->parse(Float64, x[1:end-4]), xyzDir);\n",
    "perm = sortperm(xyzDirReal)\n",
    "xyzDir = xyzDir[perm]\n",
    "\n",
    "cat!(a, b) = reshape(append!(vec(a), vec(b)), size(a)[1:end-1]..., :)\n",
    "\n",
    "function trafoSphere(theta, phi, w)\n",
    "    theta = deg2rad(theta);\n",
    "    phi = deg2rad(phi);\n",
    "    x = cos(theta) * sin(phi)\n",
    "    y = sin(theta) * sin(phi)\n",
    "    z = cos(phi)\n",
    "    return [x, y, z]\n",
    "end\n",
    "\n",
    "function trafoSphereW(theta, phi, w)\n",
    "    theta = deg2rad(theta);\n",
    "    phi = deg2rad(phi);\n",
    "    x = cos(theta) * sin(phi)\n",
    "    y = sin(theta) * sin(phi)\n",
    "    z = cos(phi)\n",
    "    return [x, y, z, w]\n",
    "end\n",
    "\n",
    "function writeMatrix(numArg, trafo, matrix)\n",
    "    matrixOut = Array{Float64}(undef, 0, numArg)\n",
    "    for row in eachrow(matrix)\n",
    "        matrixOut = [matrixOut; trafo(row...)']\n",
    "    end\n",
    "    return matrixOut\n",
    "end\n",
    "\n",
    "function writeRows(outputStream, matrix, delim, int)\n",
    "    for row in eachrow(matrix)\n",
    "        if int != -1\n",
    "            strRow = map(x->string(x)*delim, row)\n",
    "            strRow = push!(strRow, string(int))\n",
    "        else\n",
    "            strRow = map(x->string(x)*delim, row)\n",
    "            strRow = strRow[1:end-1];\n",
    "            push!(strRow, string(Int(row[end]))*delim)\n",
    "        end\n",
    "        write(outputStream, reduce(*, strRow))\n",
    "        write(outputStream, \"\\n\")\n",
    "    end\n",
    "end\n",
    "\n",
    "#https://iq.opengenus.org/orientation-of-three-ordered-points/#:~:text=Orientation%20of%20three%20ordered%20points%20refers%20to%20the%20different%20ways,i.e.%20clockwise%20and%20anti%2Dclockwise.\n",
    "function orientation(p1, p2, p3)\n",
    "    return -sign(×(p1 - p3, p2 - p3) ⋅ p3)\n",
    "end\n",
    "\n",
    "preInt = 10000;\n",
    "for xyzStr in xyzDir\n",
    "    numStr = SubString(xyzStr, 1:length(xyzStr)-4)\n",
    "    if parse(Int, numStr) > -1\n",
    "        \n",
    "        matrix = readdlm(\"./Lebedev_xyz/\"*xyzStr)\n",
    "\n",
    "        newInt =size(matrix, 1)\n",
    "\n",
    "        outputStream = open(\"./Lebedev_meshS/\" *  string(newInt) * \".mesh\", \"w+\")\n",
    "\n",
    "        arrNum = (preInt:1:(newInt+preInt-1))\n",
    "\n",
    "        matrix = matrix[:, 1:2]\n",
    "\n",
    "        matrix = cat!(matrix, arrNum');\n",
    "\n",
    "        preInt += newInt\n",
    "\n",
    "        matrixVertices = writeMatrix(3, trafoSphere, matrix)\n",
    "\n",
    "        matrixVerticesW = writeMatrix(4, trafoSphereW, matrix)\n",
    "        \n",
    "        write(outputStream,\n",
    "        \"\"\"\n",
    "        MeshVersionFormatted 2\n",
    "        \n",
    "        Dimension 3\n",
    "\n",
    "        Vertices\n",
    "        \"\"\"\n",
    "        )\n",
    "        write(outputStream, string(size(matrixVertices, 1))*\"\\n\")\n",
    "\n",
    "        writeRows(outputStream, matrixVerticesW, \" \", -1)\n",
    "\n",
    "        write(outputStream, \"\\nTriangles\\n\")\n",
    "\n",
    "        ch = chull(matrixVertices)\n",
    "\n",
    "        matrixSimplices = Array{Int64}(undef, 0, 3)\n",
    "        for (idx, elem) in enumerate(ch.simplices)\n",
    "            p1 = matrixVertices[elem[1], :]\n",
    "            p2 = matrixVertices[elem[2], :]\n",
    "            p3 = matrixVertices[elem[3], :]\n",
    "\n",
    "            if orientation(p1, p2, p3) > 0\n",
    "                matrixSimplices = [matrixSimplices; [elem[1], elem[2], elem[3]]']\n",
    "            else\n",
    "                matrixSimplices = [matrixSimplices; [elem[2], elem[1], elem[3]]']\n",
    "            end\n",
    "        end\n",
    "\n",
    "        write(outputStream, string(size(matrixSimplices,1))*\"\\n\")\n",
    "\n",
    "        writeRows(outputStream, matrixSimplices, \" \", 0)\n",
    "\n",
    "        write(outputStream, \"\\nEdges\\n\")\n",
    "\n",
    "        matrixEdges= Array{Int64}(undef, 0, 2)\n",
    "        for elem in ch.simplices\n",
    "            for i = 1:3\n",
    "                matrixEdges = [matrixEdges; [elem[i], elem[i%3+1]]']\n",
    "            end\n",
    "        end\n",
    "        \n",
    "        unique(matrixEdges, dims = 1)\n",
    "\n",
    "        write(outputStream, string(size(matrixEdges,1))*\"\\n\")\n",
    "\n",
    "        writeRows(outputStream, matrixEdges, \" \", 0)\n",
    "\n",
    "        write(outputStream, \"\\nEnd\\n\")\n",
    "\n",
    "        close(outputStream)\n",
    "    end\n",
    "end"
   ]
  },
  {
   "cell_type": "code",
   "execution_count": null,
   "metadata": {},
   "outputs": [],
   "source": []
  }
 ],
 "metadata": {
  "kernelspec": {
   "display_name": "Julia 1.8.3",
   "language": "julia",
   "name": "julia-1.8"
  },
  "language_info": {
   "file_extension": ".jl",
   "mimetype": "application/julia",
   "name": "julia",
   "version": "1.8.3"
  },
  "orig_nbformat": 4
 },
 "nbformat": 4,
 "nbformat_minor": 2
}
